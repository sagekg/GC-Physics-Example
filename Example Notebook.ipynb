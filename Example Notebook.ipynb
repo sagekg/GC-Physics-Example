{
 "cells": [
  {
   "cell_type": "markdown",
   "id": "1cdce989",
   "metadata": {},
   "source": [
    "# This is an example markdown cell"
   ]
  },
  {
   "cell_type": "code",
   "execution_count": 8,
   "id": "4f518d38",
   "metadata": {},
   "outputs": [
    {
     "name": "stdout",
     "output_type": "stream",
     "text": [
      "0\n",
      "1\n",
      "4\n",
      "9\n",
      "16\n",
      "25\n",
      "36\n",
      "49\n",
      "64\n",
      "81\n"
     ]
    }
   ],
   "source": [
    "# This is an example code block\n",
    "\n",
    "for a in range(10):\n",
    "    print(a**2)"
   ]
  },
  {
   "cell_type": "code",
   "execution_count": null,
   "id": "83d33774",
   "metadata": {},
   "outputs": [],
   "source": []
  }
 ],
 "metadata": {
  "kernelspec": {
   "display_name": "Python 3",
   "language": "python",
   "name": "python3"
  },
  "language_info": {
   "codemirror_mode": {
    "name": "ipython",
    "version": 3
   },
   "file_extension": ".py",
   "mimetype": "text/x-python",
   "name": "python",
   "nbconvert_exporter": "python",
   "pygments_lexer": "ipython3",
   "version": "3.8.5"
  }
 },
 "nbformat": 4,
 "nbformat_minor": 5
}
